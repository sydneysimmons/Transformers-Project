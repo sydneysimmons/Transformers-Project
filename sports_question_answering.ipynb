{
 "cells": [
  {
   "cell_type": "markdown",
   "id": "d41b86d9",
   "metadata": {},
   "source": [
    "### Imports"
   ]
  },
  {
   "cell_type": "code",
   "execution_count": 135,
   "id": "a9e40053",
   "metadata": {},
   "outputs": [],
   "source": [
    "import transformers\n",
    "from newspaper import Article\n",
    "from transformers import AutoModelForQuestionAnswering, AutoTokenizer, pipeline\n",
    "\n",
    "# Extractive question answering\n",
    "model_name = \"distilbert-base-cased-distilled-squad\""
   ]
  },
  {
   "cell_type": "markdown",
   "id": "74549ebc",
   "metadata": {},
   "source": [
    "### Call pipeline & load model"
   ]
  },
  {
   "cell_type": "code",
   "execution_count": 136,
   "id": "f834d691",
   "metadata": {},
   "outputs": [],
   "source": [
    "question_answerer = pipeline(\"question-answering\", model=model_name)"
   ]
  },
  {
   "cell_type": "markdown",
   "id": "0da7ba3d",
   "metadata": {},
   "source": [
    "### Extract text from article URL"
   ]
  },
  {
   "cell_type": "code",
   "execution_count": 137,
   "id": "58c2494b",
   "metadata": {},
   "outputs": [],
   "source": [
    "url = \"https://www.cbssports.com/nfl/news/2022-super-bowl-score-rams-beat-bengals-as-matthew-stafford-mvp-cooper-kupp-connect-late-in-comeback-win/live/\"\n",
    "article = Article(url)\n",
    "article.download()\n",
    "article.parse()\n",
    "text = article.text"
   ]
  },
  {
   "cell_type": "markdown",
   "id": "f356398f",
   "metadata": {},
   "source": [
    "### Run model"
   ]
  },
  {
   "cell_type": "code",
   "execution_count": 139,
   "id": "d80ee8ad",
   "metadata": {},
   "outputs": [
    {
     "name": "stdout",
     "output_type": "stream",
     "text": [
      "Question: Who won?\n",
      "Answer 1: 'Los Angeles Rams', score: 0.3778\n"
     ]
    }
   ],
   "source": [
    "question = \"Who won?\"\n",
    "result = question_answerer(question=question, context=text)   \n",
    "print(\"Question: \" + question)\n",
    "print(\n",
    "    f\"Answer 1: '{result['answer']}', score: {round(result['score'], 4)}\"\n",
    ")"
   ]
  },
  {
   "cell_type": "markdown",
   "id": "0107a020",
   "metadata": {},
   "source": [
    "### Test multiple articles & questions"
   ]
  },
  {
   "cell_type": "code",
   "execution_count": 141,
   "id": "3798aeb5",
   "metadata": {},
   "outputs": [
    {
     "name": "stdout",
     "output_type": "stream",
     "text": [
      "Question: Where was the 2022 Super Bowl?\n",
      "Answer 1: 'Los Angeles', score: 0.2835\n",
      "Answer 2: 'SoFi Stadium', score: 0.9382\n",
      "Answer 3: 'SoFi Stadium', score: 0.8948\n",
      "Question: What team won the 2022 Super Bowl?\n",
      "Answer 1: 'the Rams', score: 0.4162\n",
      "Answer 2: 'Los Angeles Rams', score: 0.7944\n",
      "Answer 3: 'The Rams', score: 0.4787\n",
      "Question: What was the score of the 2022 Super Bowl?\n",
      "Answer 1: '13-10', score: 0.8217\n",
      "Answer 2: '23-20', score: 0.3426\n",
      "Answer 3: '23-20', score: 0.0002\n",
      "Question: Who scored the first touchdown?\n",
      "Answer 1: 'Ernest Jones', score: 0.9161\n",
      "Answer 2: 'Ja'Marr Chase', score: 0.631\n",
      "Answer 3: 'Odell Beckham Jr.', score: 0.4505\n",
      "Question: How many yards did Cooper Kupp have?\n",
      "Answer 1: '39', score: 0.8363\n",
      "Answer 2: '92', score: 0.8979\n",
      "Answer 3: '92', score: 0.9334\n",
      "Question: How many passes did Burrow complete?\n",
      "Answer 1: 'seven', score: 0.7126\n",
      "Answer 2: '46', score: 0.9043\n",
      "Answer 3: '22 of 33', score: 0.5857\n",
      "Question: How many yards did Burrow have?\n",
      "Answer 1: 'seven', score: 0.7643\n",
      "Answer 2: '46', score: 0.9633\n",
      "Answer 3: '263', score: 0.7987\n",
      "Question: Why did the Rams win?\n",
      "Answer 1: 'Their defense laying siege to the Bengals', score: 0.0467\n",
      "Answer 2: 'their families', score: 0.3792\n",
      "Answer 3: 'That defensive line', score: 0.3007\n"
     ]
    }
   ],
   "source": [
    "url1 = \"https://www.cbssports.com/nfl/gametracker/recap/NFL_20220213_LAR@CIN/\"\n",
    "url2 = \"https://www.usatoday.com/story/sports/nfl/super-bowl/2022/02/13/super-bowl-2022-live-updates-score-bengals-rams-analysis/6774505001/\"\n",
    "url3 = \"https://www.cbssports.com/nfl/news/2022-super-bowl-score-rams-beat-bengals-as-matthew-stafford-mvp-cooper-kupp-connect-late-in-comeback-win/live/\"\n",
    "article1 = Article(url1)\n",
    "article1.download()\n",
    "article1.parse()\n",
    "text1 = article1.text\n",
    "\n",
    "article2 = Article(url2)\n",
    "article2.download()\n",
    "article2.parse()\n",
    "text2 = article2.text\n",
    "\n",
    "article3 = Article(url3)\n",
    "article3.download()\n",
    "article3.parse()\n",
    "text3 = article3.text\n",
    "\n",
    "qs = [\"Where was the 2022 Super Bowl?\",\"What team won the 2022 Super Bowl?\",\"What was the score of the 2022 Super Bowl?\",\n",
    "      \"Who scored the first touchdown?\",\"How many yards did Cooper Kupp have?\",\"How many passes did Burrow complete?\",\n",
    "      \"How many yards did Burrow have?\",\"Why did the Rams win?\"]\n",
    "\n",
    "for question in qs:\n",
    "    result1 = question_answerer(question=question, context=text1)\n",
    "    result2 = question_answerer(question=question, context=text2)\n",
    "    result3 = question_answerer(question=question, context=text3)\n",
    "    print(\"Question: \" + question)\n",
    "    print(\n",
    "        f\"Answer 1: '{result1['answer']}', score: {round(result1['score'], 4)}\"\n",
    "    )\n",
    "    print(\n",
    "        f\"Answer 2: '{result2['answer']}', score: {round(result2['score'], 4)}\"\n",
    "    )\n",
    "    print(\n",
    "        f\"Answer 3: '{result3['answer']}', score: {round(result3['score'], 4)}\"\n",
    "    )"
   ]
  }
 ],
 "metadata": {
  "kernelspec": {
   "display_name": "Python 3 (ipykernel)",
   "language": "python",
   "name": "python3"
  },
  "language_info": {
   "codemirror_mode": {
    "name": "ipython",
    "version": 3
   },
   "file_extension": ".py",
   "mimetype": "text/x-python",
   "name": "python",
   "nbconvert_exporter": "python",
   "pygments_lexer": "ipython3",
   "version": "3.9.12"
  }
 },
 "nbformat": 4,
 "nbformat_minor": 5
}
